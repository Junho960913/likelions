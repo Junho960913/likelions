{
 "cells": [
  {
   "cell_type": "code",
   "execution_count": 2,
   "id": "1e3b5332",
   "metadata": {},
   "outputs": [
    {
     "name": "stdout",
     "output_type": "stream",
     "text": [
      "8\n",
      "-2\n",
      "15\n",
      "0.6\n",
      "0\n",
      "3\n"
     ]
    }
   ],
   "source": [
    "a = 3\n",
    "b = 5\n",
    "print(a+b)\n",
    "print(a-b)\n",
    "print(a*b)\n",
    "print(a/b)\n",
    "print(a//b)\n",
    "print(a%b)"
   ]
  },
  {
   "cell_type": "code",
   "execution_count": 17,
   "id": "361b6250",
   "metadata": {},
   "outputs": [
    {
     "name": "stdout",
     "output_type": "stream",
     "text": [
      "1\n",
      "8\n",
      "2\n"
     ]
    }
   ],
   "source": [
    "my_string = 'Yonsei Unniv'\n",
    "print(my_string.count('e'))\n",
    "print(my_string.find('n',5))\n",
    "print(my_string.index('n'))"
   ]
  },
  {
   "cell_type": "code",
   "execution_count": 30,
   "id": "a925ae5c",
   "metadata": {},
   "outputs": [
    {
     "name": "stdout",
     "output_type": "stream",
     "text": [
      "['a', 'b', 'b', 'c']\n",
      "['a', 'b', 'b', 'c', 'e']\n",
      "['a', 'b', 'b', 'c', 'e', 'f', 'g']\n",
      "['a', 'b', 'c', 'e', 'f', 'g']\n"
     ]
    }
   ],
   "source": [
    "L1 = ['a', 'b', 'c']\n",
    "L2 = ['f', 'g']\n",
    "\n",
    "L1.insert(1, 'b')\n",
    "print(L1)\n",
    "\n",
    "L1.append('e')\n",
    "print(L1)\n",
    "\n",
    "L1.extend(L2)\n",
    "print(L1)\n",
    "\n",
    "L1.remove('b')\n",
    "print(L1)"
   ]
  },
  {
   "cell_type": "code",
   "execution_count": 29,
   "id": "6fb1983b",
   "metadata": {},
   "outputs": [
    {
     "name": "stdout",
     "output_type": "stream",
     "text": [
      "<class 'set'>\n"
     ]
    }
   ],
   "source": [
    "a = {1,2,3}\n",
    "print(type(a))"
   ]
  },
  {
   "cell_type": "code",
   "execution_count": 31,
   "id": "3919e064",
   "metadata": {},
   "outputs": [
    {
     "name": "stdout",
     "output_type": "stream",
     "text": [
      "2\n",
      "1\n"
     ]
    }
   ],
   "source": [
    "count = 2\n",
    "while count:\n",
    "    print(count)\n",
    "    count -= 1"
   ]
  },
  {
   "cell_type": "code",
   "execution_count": null,
   "id": "cc1a09c9",
   "metadata": {},
   "outputs": [],
   "source": []
  }
 ],
 "metadata": {
  "kernelspec": {
   "display_name": "Python 3",
   "language": "python",
   "name": "python3"
  },
  "language_info": {
   "codemirror_mode": {
    "name": "ipython",
    "version": 3
   },
   "file_extension": ".py",
   "mimetype": "text/x-python",
   "name": "python",
   "nbconvert_exporter": "python",
   "pygments_lexer": "ipython3",
   "version": "3.8.8"
  }
 },
 "nbformat": 4,
 "nbformat_minor": 5
}
